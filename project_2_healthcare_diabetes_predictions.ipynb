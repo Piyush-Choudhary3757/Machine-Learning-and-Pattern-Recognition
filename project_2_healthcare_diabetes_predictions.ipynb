{
  "nbformat": 4,
  "nbformat_minor": 0,
  "metadata": {
    "colab": {
      "name": "project 2- healthcare diabetes predictions.ipynb",
      "private_outputs": true,
      "provenance": [],
      "collapsed_sections": [],
      "mount_file_id": "1meEUMkzYNgiqnUTpmCeLiR516a1qMHfw",
      "authorship_tag": "ABX9TyPuMGQ05ryEenHa3hQMyZXM",
      "include_colab_link": true
    },
    "kernelspec": {
      "name": "python3",
      "display_name": "Python 3"
    },
    "language_info": {
      "name": "python"
    },
    "accelerator": "GPU"
  },
  "cells": [
    {
      "cell_type": "markdown",
      "metadata": {
        "id": "view-in-github",
        "colab_type": "text"
      },
      "source": [
        "<a href=\"https://colab.research.google.com/github/Piyush-Choudhary3757/Machine-Learning-and-Pattern-Recognition/blob/main/project_2_healthcare_diabetes_predictions.ipynb\" target=\"_parent\"><img src=\"https://colab.research.google.com/assets/colab-badge.svg\" alt=\"Open In Colab\"/></a>"
      ]
    },
    {
      "cell_type": "code",
      "metadata": {
        "id": "v6Z7CykMfzmq"
      },
      "source": [
        "#import the libraries\n",
        "import numpy as np \n",
        "import pandas as pd\n",
        "import matplotlib.pyplot as plt\n",
        "import seaborn as sns"
      ],
      "execution_count": null,
      "outputs": []
    },
    {
      "cell_type": "code",
      "metadata": {
        "id": "C-3XJD8fhEU0"
      },
      "source": [
        "#load the data \n",
        "proj_data = pd.read_csv('/content/drive/MyDrive/csv/diabetes-data.csv')"
      ],
      "execution_count": null,
      "outputs": []
    },
    {
      "cell_type": "code",
      "metadata": {
        "id": "asTg5FfVhnOj"
      },
      "source": [
        "proj_data.head()"
      ],
      "execution_count": null,
      "outputs": []
    },
    {
      "cell_type": "code",
      "metadata": {
        "id": "laRJn2mhh4Gh"
      },
      "source": [
        "#data type analysis\n",
        "proj_data.info(verbose=True)"
      ],
      "execution_count": null,
      "outputs": []
    },
    {
      "cell_type": "code",
      "metadata": {
        "id": "S-KdoRwRiKbY"
      },
      "source": [
        "#data analysis\n",
        "proj_data.describe()"
      ],
      "execution_count": null,
      "outputs": []
    },
    {
      "cell_type": "code",
      "metadata": {
        "id": "-xiMqL5iij0O"
      },
      "source": [
        "proj_data.describe ().T"
      ],
      "execution_count": null,
      "outputs": []
    },
    {
      "cell_type": "code",
      "metadata": {
        "id": "1Hcg6slHj6w_"
      },
      "source": [
        "#Missing values\n",
        "proj_data_copy = proj_data.copy(deep = True)\n",
        "\n",
        "proj_data_copy[['Glucose','BloodPressure','SkinThickness','Insulin','BMI']] = proj_data_copy[['Glucose','BloodPressure','SkinThickness','Insulin','BMI']] .replace(0,np.NaN)"
      ],
      "execution_count": null,
      "outputs": []
    },
    {
      "cell_type": "code",
      "metadata": {
        "id": "6NrzaBY7laXB"
      },
      "source": [
        "print(proj_data_copy.isnull() . sum())"
      ],
      "execution_count": null,
      "outputs": []
    },
    {
      "cell_type": "code",
      "metadata": {
        "id": "fxfgIqHRmgcN"
      },
      "source": [
        "hplot = proj_data.hist(figsize = (20,20))"
      ],
      "execution_count": null,
      "outputs": []
    },
    {
      "cell_type": "code",
      "metadata": {
        "id": "dUkWJeCsoFlj"
      },
      "source": [
        "#-Missing Values\n",
        "#--Now we Replace the nana Values with the mean values .this helps to avoide data distortion die to invalide values\n",
        "#---\n",
        "proj_data_copy['Glucose'].fillna(proj_data_copy['Glucose']. median(), inplace = True)\n",
        "proj_data_copy['BloodPressure'].fillna(proj_data_copy['BloodPressure']. median(), inplace = True)\n",
        "proj_data_copy['SkinThickness'].fillna(proj_data_copy['SkinThickness']. median(), inplace = True)\n",
        "proj_data_copy['Insulin'].fillna(proj_data_copy['Insulin']. median(), inplace = True)\n",
        "proj_data_copy['BMI'].fillna(proj_data_copy['BMI']. median(), inplace = True)\n",
        "hplot = proj_data_copy.hist(figsize = (20,20)) "
      ],
      "execution_count": null,
      "outputs": []
    },
    {
      "cell_type": "markdown",
      "metadata": {
        "id": "SIfLad1mhr4M"
      },
      "source": [
        "Exploratory Data Analysis "
      ]
    },
    {
      "cell_type": "code",
      "metadata": {
        "id": "YzLnXh4Nqbfe"
      },
      "source": [
        "#Analyse the shape of the data\n",
        "proj_data.shape "
      ],
      "execution_count": null,
      "outputs": []
    },
    {
      "cell_type": "code",
      "metadata": {
        "id": "UpkDmo38h5gO"
      },
      "source": [
        "#outcome variable\n",
        "print(proj_data.Outcome.value_counts())"
      ],
      "execution_count": null,
      "outputs": []
    },
    {
      "cell_type": "code",
      "metadata": {
        "id": "9Oyxl_8miVnj"
      },
      "source": [
        "p=proj_data.Outcome.value_counts().plot(kind=\"bar\")"
      ],
      "execution_count": null,
      "outputs": []
    },
    {
      "cell_type": "code",
      "metadata": {
        "id": "SRzutpaCis0Z"
      },
      "source": [
        "#scatter Matrix of Unclean Data\n",
        "from pandas.plotting import scatter_matrix\n",
        "p=scatter_matrix(proj_data,figsize=(25,25))"
      ],
      "execution_count": null,
      "outputs": []
    },
    {
      "cell_type": "code",
      "metadata": {
        "id": "UdrtdM6EjcT6"
      },
      "source": [
        "#Pair Plot of Clean Data\n",
        "p=sns.pairplot(proj_data_copy, hue = 'Outcome')"
      ],
      "execution_count": null,
      "outputs": []
    },
    {
      "cell_type": "code",
      "metadata": {
        "id": "1Y9QrN85ly4M"
      },
      "source": [
        "#pearson's correlation coefficient\n",
        "plt.figure(figsize=(12,10))\n",
        "p=sns.heatmap(proj_data.corr (), annot=True,cmap = 'RdYlGn')"
      ],
      "execution_count": null,
      "outputs": []
    },
    {
      "cell_type": "code",
      "metadata": {
        "id": "tW2ry2J3nmmp"
      },
      "source": [
        ""
      ],
      "execution_count": null,
      "outputs": []
    }
  ]
}